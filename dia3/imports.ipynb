{
 "cells": [
  {
   "cell_type": "markdown",
   "metadata": {},
   "source": [
    "# O sistema de import\n",
    "\n",
    "A keyword **import** do python é usada para importar módulos e existe um sistema interessante ligado a ela. O imports podem ser configurados com as keywords:\n",
    "\n",
    "- from\n",
    "- as"
   ]
  },
  {
   "cell_type": "code",
   "execution_count": 3,
   "metadata": {},
   "outputs": [],
   "source": [
    "# Demo: Importando matplotlib apelidado de \"m\"\n",
    "import matplotlib as m"
   ]
  },
  {
   "cell_type": "code",
   "execution_count": 4,
   "metadata": {
    "scrolled": true
   },
   "outputs": [
    {
     "data": {
      "text/plain": [
       "['ExecutableNotFoundError',\n",
       " 'LooseVersion',\n",
       " 'MatplotlibDeprecationWarning',\n",
       " 'MutableMapping',\n",
       " 'Parameter',\n",
       " 'Path',\n",
       " 'RcParams',\n",
       " 'URL_REGEX',\n",
       " '_DATA_DOC_APPENDIX',\n",
       " '_DATA_DOC_TITLE',\n",
       " '_ExecInfo',\n",
       " '__bibtex__',\n",
       " '__builtins__',\n",
       " '__cached__',\n",
       " '__doc__',\n",
       " '__file__',\n",
       " '__loader__',\n",
       " '__name__',\n",
       " '__package__',\n",
       " '__path__',\n",
       " '__spec__',\n",
       " '__version__',\n",
       " '_add_data_doc',\n",
       " '_all_deprecated',\n",
       " '_check_versions',\n",
       " '_color_data',\n",
       " '_create_tmp_config_or_cache_dir',\n",
       " '_deprecated_ignore_map',\n",
       " '_deprecated_map',\n",
       " '_deprecated_remain_as_none',\n",
       " '_ensure_handler',\n",
       " '_get_config_or_cache_dir',\n",
       " '_get_data_path',\n",
       " '_get_executable_info',\n",
       " '_get_xdg_cache_dir',\n",
       " '_get_xdg_config_dir',\n",
       " '_init_tests',\n",
       " '_label_from_arg',\n",
       " '_log',\n",
       " '_logged_cached',\n",
       " '_open_file_or_url',\n",
       " '_preprocess_data',\n",
       " '_rc_params_in_file',\n",
       " '_replacer',\n",
       " '_version',\n",
       " 'atexit',\n",
       " 'cbook',\n",
       " 'checkdep_dvipng',\n",
       " 'checkdep_ghostscript',\n",
       " 'checkdep_inkscape',\n",
       " 'checkdep_pdftops',\n",
       " 'checkdep_ps_distiller',\n",
       " 'checkdep_usetex',\n",
       " 'colors',\n",
       " 'compare_versions',\n",
       " 'contextlib',\n",
       " 'cycler',\n",
       " 'dedent',\n",
       " 'defaultParams',\n",
       " 'default_test_modules',\n",
       " 'docstring',\n",
       " 'fontconfig_pattern',\n",
       " 'ft2font',\n",
       " 'functools',\n",
       " 'get_backend',\n",
       " 'get_cachedir',\n",
       " 'get_configdir',\n",
       " 'get_data_path',\n",
       " 'get_home',\n",
       " 'get_label',\n",
       " 'get_py2exe_datafiles',\n",
       " 'importlib',\n",
       " 'inspect',\n",
       " 'interactive',\n",
       " 'is_interactive',\n",
       " 'is_url',\n",
       " 'locale',\n",
       " 'logging',\n",
       " 'matplotlib_fname',\n",
       " 'mplDeprecation',\n",
       " 'namedtuple',\n",
       " 'numpy',\n",
       " 'os',\n",
       " 'pprint',\n",
       " 'rc',\n",
       " 'rcParams',\n",
       " 'rcParamsDefault',\n",
       " 'rcParamsOrig',\n",
       " 'rc_context',\n",
       " 'rc_file',\n",
       " 'rc_file_defaults',\n",
       " 'rc_params',\n",
       " 'rc_params_from_file',\n",
       " 'rcdefaults',\n",
       " 'rcsetup',\n",
       " 're',\n",
       " 'sanitize_sequence',\n",
       " 'set_loglevel',\n",
       " 'shutil',\n",
       " 'subprocess',\n",
       " 'sys',\n",
       " 'tempfile',\n",
       " 'test',\n",
       " 'tk_window_focus',\n",
       " 'use',\n",
       " 'validate_backend',\n",
       " 'warnings']"
      ]
     },
     "execution_count": 4,
     "metadata": {},
     "output_type": "execute_result"
    }
   ],
   "source": [
    "# Verificando conteúdo do namespace \"m\"\n",
    "\n",
    "dir(m)"
   ]
  },
  {
   "cell_type": "markdown",
   "metadata": {},
   "source": [
    "> Dica: Um arquivo nomeado \"common.py\" pode ser importado mesmo pelo jupyter!"
   ]
  },
  {
   "cell_type": "code",
   "execution_count": 3,
   "metadata": {},
   "outputs": [],
   "source": [
    "# Demo: Importando baskara de dentro de common\n",
    "from common import baskara\n",
    "baskara(1, 2, -5)\n",
    "\n",
    "# Importando common (completo) apelidado de \"c\"\n",
    "import common as c"
   ]
  },
  {
   "cell_type": "code",
   "execution_count": 4,
   "metadata": {},
   "outputs": [
    {
     "data": {
      "text/plain": [
       "['__builtins__',\n",
       " '__cached__',\n",
       " '__doc__',\n",
       " '__file__',\n",
       " '__loader__',\n",
       " '__name__',\n",
       " '__package__',\n",
       " '__spec__',\n",
       " 'baskara',\n",
       " 'variavel']"
      ]
     },
     "execution_count": 4,
     "metadata": {},
     "output_type": "execute_result"
    }
   ],
   "source": [
    "# Demo: Visualizando namespace\n",
    "dir(c)"
   ]
  },
  {
   "cell_type": "markdown",
   "metadata": {},
   "source": [
    "# Python Path\n",
    "\n",
    "O sistema de import funciona, procurando os módulos no caminho definido pela variável de ambiente PYTHONPATH. Ela pode ser checada e modificada usando a biblioteca **sys**"
   ]
  },
  {
   "cell_type": "code",
   "execution_count": 16,
   "metadata": {},
   "outputs": [
    {
     "data": {
      "text/plain": [
       "['/home/joaopedro/pCloudDrive/gdrive/Projects/active/MiniCourse_Intro-to-Python_10-2-2021/results/dia3',\n",
       " '/home/joaopedro/Dropbox/py_quick_access',\n",
       " '/home/joaopedro/pCloudDrive/gdrive/Projects/active/Wild_Duck_Pipeline/result/WildDuckPipe',\n",
       " '/home/joaopedro/anaconda3/lib/python38.zip',\n",
       " '/home/joaopedro/anaconda3/lib/python3.8',\n",
       " '/home/joaopedro/anaconda3/lib/python3.8/lib-dynload',\n",
       " '',\n",
       " '/home/joaopedro/.local/lib/python3.8/site-packages',\n",
       " '/home/joaopedro/anaconda3/lib/python3.8/site-packages',\n",
       " '/home/joaopedro/anaconda3/lib/python3.8/site-packages/IPython/extensions',\n",
       " '/home/joaopedro/.ipython']"
      ]
     },
     "execution_count": 16,
     "metadata": {},
     "output_type": "execute_result"
    }
   ],
   "source": [
    "# Demo: Visualizando o path\n",
    "\n",
    "import sys\n",
    "sys.path"
   ]
  },
  {
   "cell_type": "code",
   "execution_count": 17,
   "metadata": {},
   "outputs": [
    {
     "name": "stdout",
     "output_type": "stream",
     "text": [
      "/home/joaopedro/pCloudDrive/gdrive/Projects/active/MiniCourse_Intro-to-Python_10-2-2021/results/dia3\r\n"
     ]
    }
   ],
   "source": [
    "!pwd # Diretório atual"
   ]
  },
  {
   "cell_type": "code",
   "execution_count": 5,
   "metadata": {},
   "outputs": [
    {
     "data": {
      "text/plain": [
       "['__builtins__',\n",
       " '__cached__',\n",
       " '__doc__',\n",
       " '__file__',\n",
       " '__loader__',\n",
       " '__name__',\n",
       " '__package__',\n",
       " '__spec__',\n",
       " 'test']"
      ]
     },
     "execution_count": 5,
     "metadata": {},
     "output_type": "execute_result"
    }
   ],
   "source": [
    "# Demo: Importando módulo pessoal que esta no caminho\n",
    "import test_access\n",
    "dir(test_access)"
   ]
  },
  {
   "cell_type": "code",
   "execution_count": 6,
   "metadata": {},
   "outputs": [
    {
     "name": "stdout",
     "output_type": "stream",
     "text": [
      "It is on the path !!!\n"
     ]
    }
   ],
   "source": [
    "test_access.test()"
   ]
  }
 ],
 "metadata": {
  "kernelspec": {
   "display_name": "Python 3",
   "language": "python",
   "name": "python3"
  },
  "language_info": {
   "codemirror_mode": {
    "name": "ipython",
    "version": 3
   },
   "file_extension": ".py",
   "mimetype": "text/x-python",
   "name": "python",
   "nbconvert_exporter": "python",
   "pygments_lexer": "ipython3",
   "version": "3.8.3"
  },
  "toc": {
   "base_numbering": 1,
   "nav_menu": {},
   "number_sections": true,
   "sideBar": true,
   "skip_h1_title": false,
   "title_cell": "Table of Contents",
   "title_sidebar": "Contents",
   "toc_cell": false,
   "toc_position": {},
   "toc_section_display": true,
   "toc_window_display": false
  },
  "varInspector": {
   "cols": {
    "lenName": 16,
    "lenType": 16,
    "lenVar": 40
   },
   "kernels_config": {
    "python": {
     "delete_cmd_postfix": "",
     "delete_cmd_prefix": "del ",
     "library": "var_list.py",
     "varRefreshCmd": "print(var_dic_list())"
    },
    "r": {
     "delete_cmd_postfix": ") ",
     "delete_cmd_prefix": "rm(",
     "library": "var_list.r",
     "varRefreshCmd": "cat(var_dic_list()) "
    }
   },
   "types_to_exclude": [
    "module",
    "function",
    "builtin_function_or_method",
    "instance",
    "_Feature"
   ],
   "window_display": false
  }
 },
 "nbformat": 4,
 "nbformat_minor": 4
}
