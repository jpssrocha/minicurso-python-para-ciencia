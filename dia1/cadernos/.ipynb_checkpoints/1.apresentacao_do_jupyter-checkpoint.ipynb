{
 "cells": [
  {
   "cell_type": "markdown",
   "metadata": {},
   "source": [
    "# Jupyter\n",
    "----\n",
    "\n",
    "## Descrição:\n",
    "\n",
    "- Cadernos interativos organizados em células\n",
    "- Podemos misturar texto e código\n",
    "- Células podem ser do tipo: Markdown ou Código\n",
    "- Nas células de Markdown podemos escrever texto formatado em Markdown ou LaTex\n",
    "- Funciona em dois modos: Comando e Edição\n",
    "\n",
    "## Comandos básicos\n",
    "\n",
    "- Crtl+Enter -> Executa célula\n",
    "- Alt+Enter -> Executa a célula cria nova embaixo\n",
    "- A (modo de comando) -> Cria célular acima\n",
    "- B (modo de comendo) -> Crea célula abaixo\n",
    "\n"
   ]
  },
  {
   "cell_type": "markdown",
   "metadata": {},
   "source": [
    "# Markdown\n",
    "-----\n",
    "É uma linguagem de markup (estilo HTML ou LaTex) bastante simplificada. Ótima para formatar textos simples. Podemos usar o estilo de markdown do Jupyter que permite misturar trechos de LaTex.\n",
    "\n",
    "## Formatação básica do markdown\n",
    "\n",
    "Texto:\n",
    "- \\# -> Marca sessões e subsessões\n",
    "- \\*\\*Negrito\\*\\* -> **Negrito**\n",
    "- \\*Italico\\* -> *Italico*\n",
    "- \\~\\~Cortado\\~\\~ -> ~~Cortado~~\n",
    "\n",
    "Lista simples (marcar com -):\n",
    "- Item\n",
    "- Item\n",
    "\n",
    "Lista enumerada (enumerar):\n",
    "1. um\n",
    "2. dois\n",
    "\n",
    "Equação (LaTex):\n",
    "\n",
    "$$ \\vec{F} = \\frac{d\\vec{p}}{dt} $$\n",
    "\n",
    "Link: [Python](https://www.python.org/)"
   ]
  },
  {
   "cell_type": "markdown",
   "metadata": {},
   "source": [
    "## Extensões\n",
    "\n",
    "Você pode aprimorar a sua experiência com o Jupyter usando extensões."
   ]
  }
 ],
 "metadata": {
  "kernelspec": {
   "display_name": "Python 3",
   "language": "python",
   "name": "python3"
  },
  "language_info": {
   "codemirror_mode": {
    "name": "ipython",
    "version": 3
   },
   "file_extension": ".py",
   "mimetype": "text/x-python",
   "name": "python",
   "nbconvert_exporter": "python",
   "pygments_lexer": "ipython3",
   "version": "3.8.3"
  },
  "toc": {
   "base_numbering": 1,
   "nav_menu": {},
   "number_sections": true,
   "sideBar": true,
   "skip_h1_title": false,
   "title_cell": "Table of Contents",
   "title_sidebar": "Contents",
   "toc_cell": false,
   "toc_position": {},
   "toc_section_display": true,
   "toc_window_display": true
  },
  "varInspector": {
   "cols": {
    "lenName": 16,
    "lenType": 16,
    "lenVar": 40
   },
   "kernels_config": {
    "python": {
     "delete_cmd_postfix": "",
     "delete_cmd_prefix": "del ",
     "library": "var_list.py",
     "varRefreshCmd": "print(var_dic_list())"
    },
    "r": {
     "delete_cmd_postfix": ") ",
     "delete_cmd_prefix": "rm(",
     "library": "var_list.r",
     "varRefreshCmd": "cat(var_dic_list()) "
    }
   },
   "types_to_exclude": [
    "module",
    "function",
    "builtin_function_or_method",
    "instance",
    "_Feature"
   ],
   "window_display": false
  }
 },
 "nbformat": 4,
 "nbformat_minor": 4
}
