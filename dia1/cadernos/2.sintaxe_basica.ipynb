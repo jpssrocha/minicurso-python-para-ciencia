{
 "cells": [
  {
   "cell_type": "markdown",
   "metadata": {},
   "source": [
    "# Variáveis e Tipos\n",
    "\n",
    "O Python é uma linguagem de tipagem dinâmica, ou seja, as variavéis podem ser criadas sem declarar um tipo. Em uma liguagem como C/C++ ou Java esssa informação deve ser passada na declaração da variável:\n",
    "\n",
    "```java\n",
    "int a = 1;\n",
    "int b;\n",
    "b = 2;\n",
    "```\n",
    "\n",
    "## Atribuindo variável\n",
    "\n",
    "No caso do Python isso não é necessário, as variáveis podem ser declaradas e o interpretador tratará de determinar o tipo em tempo de execução, da melhor forma possível.\n",
    "\n",
    "Operador de atribuição é o mesmo que da maioria das linguagens o símbolo: ="
   ]
  },
  {
   "cell_type": "code",
   "execution_count": 1,
   "metadata": {},
   "outputs": [],
   "source": [
    "# Comentários são demarcados por \"#\""
   ]
  },
  {
   "cell_type": "code",
   "execution_count": 5,
   "metadata": {},
   "outputs": [],
   "source": [
    "# Declarando variáveis de tipos diferentes\n",
    "\n",
    "x = 1\n",
    "x = 'blabla'\n",
    "x = True\n",
    "\n",
    "# Declaração em linha única\n",
    "\n",
    "x, y = 1, 2"
   ]
  },
  {
   "cell_type": "markdown",
   "metadata": {},
   "source": [
    "## Tipos básicos\n",
    "\n",
    "Em geral os tipos são relacionados aos objetos compostos usando os tipos básicos, que são:\n",
    "\n",
    "- Inteiro: int\n",
    "- Float: float\n",
    "- Boolean: bool (True e False)\n",
    "- String: str (lista de caracteres)\n",
    "\n",
    "Para checar o tipo podemos usar a função **type()**."
   ]
  },
  {
   "cell_type": "code",
   "execution_count": 92,
   "metadata": {},
   "outputs": [
    {
     "name": "stdout",
     "output_type": "stream",
     "text": [
      "<class 'int'>\n",
      "<class 'float'>\n"
     ]
    },
    {
     "data": {
      "text/plain": [
       "float"
      ]
     },
     "execution_count": 92,
     "metadata": {},
     "output_type": "execute_result"
    }
   ],
   "source": [
    "# Demo: tipagem dinâmica\n",
    "a = 1\n",
    "b = 1.5797\n",
    "\n",
    "print(type(a))\n",
    "print(type(b))\n",
    "type(a + b)"
   ]
  },
  {
   "cell_type": "markdown",
   "metadata": {},
   "source": [
    "> Dica: O sistema de tipos do python as vezes pode ser confuso por conta da orientação a objetos. Na dúvida sempre use a função **type()** para verificar se os tipos são compatíveis."
   ]
  },
  {
   "cell_type": "markdown",
   "metadata": {},
   "source": [
    "# Operações básicas\n",
    "----\n",
    "## Operadores aritméticos"
   ]
  },
  {
   "cell_type": "code",
   "execution_count": 17,
   "metadata": {},
   "outputs": [
    {
     "data": {
      "text/plain": [
       "2"
      ]
     },
     "execution_count": 17,
     "metadata": {},
     "output_type": "execute_result"
    }
   ],
   "source": [
    "# Soma +\n",
    "2 + 2\n",
    "# Subtração -\n",
    "2 - 1\n",
    "# Mutiplicação *\n",
    "2*2\n",
    "# Exponenciação **\n",
    "2**2\n",
    "# Divisão /\n",
    "2/2\n",
    "\n",
    "# Resto %\n",
    "\n",
    "4 % 2\n",
    "\n",
    "# Divisão inteira //\n",
    "\n",
    "5//2"
   ]
  },
  {
   "cell_type": "markdown",
   "metadata": {},
   "source": [
    "## Operadores lógicos para valores numéricos\n",
    "\n"
   ]
  },
  {
   "cell_type": "code",
   "execution_count": null,
   "metadata": {},
   "outputs": [],
   "source": [
    "True\n",
    "False"
   ]
  },
  {
   "cell_type": "code",
   "execution_count": 25,
   "metadata": {},
   "outputs": [
    {
     "data": {
      "text/plain": [
       "True"
      ]
     },
     "execution_count": 25,
     "metadata": {},
     "output_type": "execute_result"
    }
   ],
   "source": [
    "a = 2\n",
    "b = 10\n",
    "\n",
    "# Igual ou diferente\n",
    "a == b\n",
    "a != b\n",
    "# Maior e menor \n",
    "\n",
    "a < b\n",
    "a > b\n",
    "# Maior e menor igual\n",
    "\n",
    "a <= b\n",
    "b >= a"
   ]
  },
  {
   "cell_type": "code",
   "execution_count": 31,
   "metadata": {},
   "outputs": [
    {
     "data": {
      "text/plain": [
       "False"
      ]
     },
     "execution_count": 31,
     "metadata": {},
     "output_type": "execute_result"
    }
   ],
   "source": [
    "# E\n",
    "True and True\n",
    "True and False\n",
    "False and False\n",
    "# OU\n",
    "\n",
    "True or True\n",
    "True or False\n",
    "False or False"
   ]
  },
  {
   "cell_type": "markdown",
   "metadata": {},
   "source": [
    "## Operações com strings\n",
    "\n",
    "As strings são o primeiro tipo de **coleção** que aparece no Python, e o seu funcionamento é muito parecido com as **listas**. Neste caso funcionando como uma lista de caracteres.\n",
    "\n",
    "> Dica: As operações e métodos de string são muito importantes na hora de manipular a saída dos programas e ajustar detalhes de exibição ..."
   ]
  },
  {
   "cell_type": "code",
   "execution_count": 34,
   "metadata": {},
   "outputs": [
    {
     "name": "stdout",
     "output_type": "stream",
     "text": [
      "abc efgh\n",
      "abc efgh\n"
     ]
    }
   ],
   "source": [
    "x = \"abc\"\n",
    "y = \"efgh\"\n",
    "\n",
    "# Demonstrando concatenação (vs ,)\n",
    "\n",
    "print(x, y)\n",
    "print(x + \" \" + y)"
   ]
  },
  {
   "cell_type": "code",
   "execution_count": 36,
   "metadata": {},
   "outputs": [
    {
     "data": {
      "text/plain": [
       "4"
      ]
     },
     "execution_count": 36,
     "metadata": {},
     "output_type": "execute_result"
    }
   ],
   "source": [
    "# Demonstrando len\n",
    "len(x)\n",
    "len(y)"
   ]
  },
  {
   "cell_type": "code",
   "execution_count": 41,
   "metadata": {},
   "outputs": [
    {
     "name": "stdout",
     "output_type": "stream",
     "text": [
      "Help on built-in function len in module builtins:\n",
      "\n",
      "len(obj, /)\n",
      "    Return the number of items in a container.\n",
      "\n"
     ]
    }
   ],
   "source": [
    "help(len)  #  Python\n",
    "\n",
    "?len  #  Jupyter"
   ]
  },
  {
   "cell_type": "code",
   "execution_count": 52,
   "metadata": {},
   "outputs": [
    {
     "data": {
      "text/plain": [
       "True"
      ]
     },
     "execution_count": 52,
     "metadata": {},
     "output_type": "execute_result"
    }
   ],
   "source": [
    "# Demostrando operadores lógicos\n",
    "\n",
    "# Maior e Menor\n",
    "x > y\n",
    "y < x\n",
    "\n",
    "# Igual e diferente\n",
    "x == y\n",
    "x != y"
   ]
  },
  {
   "cell_type": "code",
   "execution_count": 56,
   "metadata": {},
   "outputs": [
    {
     "data": {
      "text/plain": [
       "'ABCDE'"
      ]
     },
     "execution_count": 56,
     "metadata": {},
     "output_type": "execute_result"
    }
   ],
   "source": [
    "s = \"ABCDEFGHIJLMNOPQRSTUVXZ\"\n",
    "\n",
    "# Demo: indexação\n",
    "\n",
    "# Primeiro elemento\n",
    "s[0]\n",
    "\n",
    "# Ultimo elemento\n",
    "s[-1]\n",
    "\n",
    "# Slicing (inicio:fim, inicio:fim:passo)\n",
    "s[1::2]\n",
    "s[0:5]"
   ]
  },
  {
   "cell_type": "markdown",
   "metadata": {},
   "source": [
    "## Métodos para strings\n",
    "\n",
    "Existem diversos métodos para manipulação de strings, na [documentação](https://docs.python.org/3/library/stdtypes.html#string-methods) você achará uma referência mais completa. Ao longo dos tutoriais vamos ver o uso de alguns na prática."
   ]
  },
  {
   "cell_type": "markdown",
   "metadata": {},
   "source": [
    "## Interpolação de strings (F-strings)\n",
    "\n",
    "As f-strings são a forma mais recente do python para fazer interpolação de strings.\n",
    "\n",
    "> Dica: Esta técnica também é muito importante para formatação da saída dos programas."
   ]
  },
  {
   "cell_type": "code",
   "execution_count": 13,
   "metadata": {},
   "outputs": [
    {
     "name": "stdout",
     "output_type": "stream",
     "text": [
      "Fale a pessoa q quer cumprimentar! Joao\n",
      "Olá Joao! Hoje é Terça\n"
     ]
    }
   ],
   "source": [
    "sujeito = \"Pessoas\"\n",
    "dia = \"Terça\"\n",
    "\n",
    "sujeito = input(\"Fale a pessoa q quer cumprimentar! \")\n",
    "\n",
    "# Demo: interpolação com strings\n",
    "\n",
    "print(f\"Olá {sujeito}! Hoje é {dia}\")\n"
   ]
  },
  {
   "cell_type": "code",
   "execution_count": 65,
   "metadata": {},
   "outputs": [
    {
     "name": "stdout",
     "output_type": "stream",
     "text": [
      "1.23453412435 + 11.23453412435 = 12.469068248700001\n",
      "  1.23\n",
      " 11.23\n",
      "100.12\n"
     ]
    }
   ],
   "source": [
    "numero1 = 1.23453412435\n",
    "numero2 = 11.23453412435\n",
    "numero3 = 100.12334\n",
    "\n",
    "# Demo: interpolação com floats (formatado ou n)\n",
    "\n",
    "print(f\"{numero1} + {numero2} = {numero1 + numero2}\")\n",
    "print(f\"{numero1:6.2f}\")\n",
    "print(f\"{numero2:6.2f}\")\n",
    "print(f\"{numero3:6.2f}\")"
   ]
  },
  {
   "cell_type": "markdown",
   "metadata": {},
   "source": [
    "> Dica: Na documentação das f-string você achará diversas opções de formatação"
   ]
  },
  {
   "cell_type": "markdown",
   "metadata": {},
   "source": [
    "# Coleções"
   ]
  },
  {
   "cell_type": "markdown",
   "metadata": {},
   "source": [
    "## Listas\n",
    "\n",
    "As listas são um dos tipos mais simples de coleção do python. Muitos dos mecanismos das strings podem ser utilizados aqui."
   ]
  },
  {
   "cell_type": "code",
   "execution_count": 68,
   "metadata": {},
   "outputs": [
    {
     "name": "stdout",
     "output_type": "stream",
     "text": [
      "ABCDEFGHIJLMNOPQRSTUVXZ\n"
     ]
    },
    {
     "data": {
      "text/plain": [
       "['A',\n",
       " 'B',\n",
       " 'C',\n",
       " 'D',\n",
       " 'E',\n",
       " 'F',\n",
       " 'G',\n",
       " 'H',\n",
       " 'I',\n",
       " 'J',\n",
       " 'L',\n",
       " 'M',\n",
       " 'N',\n",
       " 'O',\n",
       " 'P',\n",
       " 'Q',\n",
       " 'R',\n",
       " 'S',\n",
       " 'T',\n",
       " 'U',\n",
       " 'V',\n",
       " 'X',\n",
       " 'Z']"
      ]
     },
     "execution_count": 68,
     "metadata": {},
     "output_type": "execute_result"
    }
   ],
   "source": [
    "# Demo: Construtor de lista na string (s)\n",
    "print(s)\n",
    "list(s)"
   ]
  },
  {
   "cell_type": "code",
   "execution_count": 19,
   "metadata": {},
   "outputs": [
    {
     "data": {
      "text/plain": [
       "['um', 'dois', 'três', 'quatro', 'cinco', 1, 2, 3, 4, 5]"
      ]
     },
     "execution_count": 19,
     "metadata": {},
     "output_type": "execute_result"
    }
   ],
   "source": [
    "a = [\"um\", \"dois\", \"três\", \"quatro\", \"cinco\"]\n",
    "b = [1, 2, 3, 4, 5]\n",
    "\n",
    "# Demo: indexação com listas é igual a com strings\n",
    "\n",
    "a[0]\n",
    "a[-1]\n",
    "\n",
    "# Demo: operador de concatenação também funciona aqui\n",
    "\n",
    "a + b"
   ]
  },
  {
   "cell_type": "code",
   "execution_count": 75,
   "metadata": {},
   "outputs": [
    {
     "name": "stdout",
     "output_type": "stream",
     "text": [
      "['um', 1, 1.0, True]\n"
     ]
    }
   ],
   "source": [
    "# Demo: listas podem ter vários tipos\n",
    "c = [\"um\", 1, 1.0, True]\n",
    "print(c)"
   ]
  },
  {
   "cell_type": "markdown",
   "metadata": {},
   "source": [
    "> A notação com \".\" sinaliza a chamada de um método. Os métodos podem alterar os objetos ou não (via de regra sim)."
   ]
  },
  {
   "cell_type": "code",
   "execution_count": 86,
   "metadata": {},
   "outputs": [],
   "source": [
    "# Demo: Métodos de lista mais utilizados\n",
    "\n",
    "# append\n",
    "\n",
    "#a.append(\"seis\")\n",
    "#b.append(6)\n",
    "\n",
    "# pop\n",
    "\n",
    "# a.pop()\n",
    "# b.pop()\n",
    "\n",
    "# insert\n",
    "\n",
    "# a.insert(2, \"bla\")\n",
    "\n",
    "# remove\n",
    "\n",
    "# a.remove(\"bla\")"
   ]
  },
  {
   "cell_type": "code",
   "execution_count": 21,
   "metadata": {},
   "outputs": [
    {
     "name": "stdout",
     "output_type": "stream",
     "text": [
      "[1, 2, 3, 4, 5, 6]\n"
     ]
    }
   ],
   "source": [
    "# Demo: Aliasing\n",
    "\n",
    "x = b\n",
    "x.append(6)\n",
    "\n",
    "print(b)"
   ]
  },
  {
   "cell_type": "code",
   "execution_count": 20,
   "metadata": {},
   "outputs": [
    {
     "data": {
      "text/plain": [
       "[1, 2, 3, 4, 5]"
      ]
     },
     "execution_count": 20,
     "metadata": {},
     "output_type": "execute_result"
    }
   ],
   "source": [
    "b"
   ]
  },
  {
   "cell_type": "code",
   "execution_count": 22,
   "metadata": {},
   "outputs": [
    {
     "name": "stdout",
     "output_type": "stream",
     "text": [
      "[1, 2, 3, 4, 5, 6]\n"
     ]
    }
   ],
   "source": [
    "# Demo: copy()\n",
    "x = b.copy()\n",
    "x.append(7)\n",
    "print(b)"
   ]
  },
  {
   "cell_type": "code",
   "execution_count": null,
   "metadata": {},
   "outputs": [],
   "source": []
  },
  {
   "cell_type": "markdown",
   "metadata": {},
   "source": [
    "## Tuplas\n",
    "\n",
    "As tuplas são muito semelhantes às listas, no entanto são imutáveis. Geralmente não são usados no dia a dia ..."
   ]
  },
  {
   "cell_type": "code",
   "execution_count": 95,
   "metadata": {},
   "outputs": [
    {
     "ename": "TypeError",
     "evalue": "'tuple' object does not support item assignment",
     "output_type": "error",
     "traceback": [
      "\u001b[0;31m---------------------------------------------------------------------------\u001b[0m",
      "\u001b[0;31mTypeError\u001b[0m                                 Traceback (most recent call last)",
      "\u001b[0;32m<ipython-input-95-c600d2485281>\u001b[0m in \u001b[0;36m<module>\u001b[0;34m\u001b[0m\n\u001b[1;32m      1\u001b[0m \u001b[0mx\u001b[0m \u001b[0;34m=\u001b[0m \u001b[0;34m(\u001b[0m\u001b[0;36m1\u001b[0m\u001b[0;34m,\u001b[0m \u001b[0;36m2\u001b[0m\u001b[0;34m,\u001b[0m \u001b[0;36m3\u001b[0m\u001b[0;34m)\u001b[0m\u001b[0;34m\u001b[0m\u001b[0;34m\u001b[0m\u001b[0m\n\u001b[0;32m----> 2\u001b[0;31m \u001b[0mx\u001b[0m\u001b[0;34m[\u001b[0m\u001b[0;36m0\u001b[0m\u001b[0;34m]\u001b[0m \u001b[0;34m=\u001b[0m \u001b[0;36m0\u001b[0m\u001b[0;34m\u001b[0m\u001b[0;34m\u001b[0m\u001b[0m\n\u001b[0m",
      "\u001b[0;31mTypeError\u001b[0m: 'tuple' object does not support item assignment"
     ]
    }
   ],
   "source": [
    "x = (1, 2, 3)\n",
    "x[0] = 0"
   ]
  },
  {
   "cell_type": "code",
   "execution_count": 1,
   "metadata": {},
   "outputs": [],
   "source": [
    "# Lembrar: Listas são declaradas com colchetes.\n",
    "x = []"
   ]
  },
  {
   "cell_type": "markdown",
   "metadata": {},
   "source": [
    "## Dicionários\n",
    "\n",
    "Os dicionários são as *hash tables* de Python."
   ]
  },
  {
   "cell_type": "code",
   "execution_count": 25,
   "metadata": {},
   "outputs": [
    {
     "name": "stdout",
     "output_type": "stream",
     "text": [
      "{'um': 1, 'dois': 2, 'tres': 3, 'quatro': 4}\n"
     ]
    }
   ],
   "source": [
    "# Demo: Dicionário simples\n",
    "d = dict() # equivale a d = {}\n",
    "\n",
    "d = {\"um\": 1, \"dois\": 2, \"tres\": 3}\n",
    "\n",
    "# Acessando items\n",
    "d[\"um\"]\n",
    "\n",
    "# Criando nova entrada\n",
    "d[\"quatro\"] = 4\n",
    "print(d)"
   ]
  },
  {
   "cell_type": "markdown",
   "metadata": {},
   "source": [
    "> Depois veremos como iterar sobre os dicionários"
   ]
  },
  {
   "cell_type": "markdown",
   "metadata": {},
   "source": [
    "## Sets\n",
    "\n",
    "Os sets são parecidos com listas, no entanto internamente são bem diferentes. Num set a ordem não é tão importante e não podem haver itens repetidos."
   ]
  },
  {
   "cell_type": "code",
   "execution_count": 87,
   "metadata": {},
   "outputs": [
    {
     "name": "stdout",
     "output_type": "stream",
     "text": [
      "{5, 6, 10, 15, 50}\n",
      "[5, 6, 10, 15, 50]\n"
     ]
    }
   ],
   "source": [
    "y = [5, 5, 6, 10, 15, 50, 10]\n",
    "\n",
    "# Demo: Construtor de sets\n",
    "y = set(y)\n",
    "print(y)\n",
    "y = list(y)\n",
    "print(y)"
   ]
  },
  {
   "cell_type": "markdown",
   "metadata": {},
   "source": [
    "# Loops "
   ]
  },
  {
   "cell_type": "markdown",
   "metadata": {},
   "source": [
    "## For \n",
    "\n",
    "Loops no Python têm alguns truques que os deixam mais legíveis e práticos de se usar:\n",
    "\n",
    "- range (metodo clássico)\n",
    "- Iterar sobre coleção\n",
    "- zip (iterar sobre multiplas coleções)\n",
    "- enumerate (iterar sobre coleção e indice)"
   ]
  },
  {
   "cell_type": "markdown",
   "metadata": {},
   "source": [
    "> Os escopos em python são delimitados por tabulações! Portanto tomem cuidado. "
   ]
  },
  {
   "cell_type": "code",
   "execution_count": 37,
   "metadata": {},
   "outputs": [
    {
     "name": "stdout",
     "output_type": "stream",
     "text": [
      "0 : um\n",
      "1 : dois\n",
      "2 : três\n",
      "3 : quatro\n",
      "4 : cinco\n"
     ]
    }
   ],
   "source": [
    "numeros1 = [\"um\", \"dois\", \"três\", \"quatro\", \"cinco\"]\n",
    "numeros2 = [1, 2, 3, 4, 5]\n",
    "letras = [\"A\", \"B\", \"C\", \"D\", \"E\"]\n",
    "\n",
    "# Demo: Iterando sobre lista usando range\n",
    "for indice in range(len(numeros1)):\n",
    "    print(indice, \":\", numeros1[indice])"
   ]
  },
  {
   "cell_type": "code",
   "execution_count": 33,
   "metadata": {},
   "outputs": [
    {
     "name": "stdout",
     "output_type": "stream",
     "text": [
      "um\n",
      "dois\n",
      "três\n",
      "quatro\n",
      "cinco\n"
     ]
    }
   ],
   "source": [
    "# Demo: Iterando sobre lista sem range\n",
    "\n",
    "for numero in numeros1:\n",
    "    print(numero)"
   ]
  },
  {
   "cell_type": "code",
   "execution_count": 35,
   "metadata": {},
   "outputs": [
    {
     "name": "stdout",
     "output_type": "stream",
     "text": [
      "0 : um\n",
      "1 : dois\n",
      "2 : três\n",
      "3 : quatro\n",
      "4 : cinco\n"
     ]
    }
   ],
   "source": [
    "for indice, numero in enumerate(numeros1):\n",
    "    print(indice, \":\", numero)"
   ]
  },
  {
   "cell_type": "code",
   "execution_count": 38,
   "metadata": {},
   "outputs": [
    {
     "name": "stdout",
     "output_type": "stream",
     "text": [
      "A - um : 1\n",
      "B - dois : 2\n",
      "C - três : 3\n",
      "D - quatro : 4\n",
      "E - cinco : 5\n"
     ]
    }
   ],
   "source": [
    "# Demo: Iterando sobre duas listas usando zip\n",
    "\n",
    "for nome, numero, letra in zip(numeros1, numeros2, letras):\n",
    "    print(f\"{letra} - {nome} : {numero}\")"
   ]
  },
  {
   "cell_type": "code",
   "execution_count": 40,
   "metadata": {},
   "outputs": [
    {
     "name": "stdout",
     "output_type": "stream",
     "text": [
      "[0, 1, 4, 9, 16, 25, 36, 49, 64, 81, 100]\n"
     ]
    }
   ],
   "source": [
    "# Demo: Criando lista de quadrados\n",
    "\n",
    "x = []\n",
    "for i in range(11):\n",
    "    x.append(i**2)\n",
    "    \n",
    "print(x)"
   ]
  },
  {
   "cell_type": "markdown",
   "metadata": {},
   "source": [
    "### Compreensão de Lista\n",
    "\n",
    "A compreensão de lista é um atalho muito útil que pode ser usado para deixar o código mais compacto. Você provavelmente vai usa-lo bastante no futuro"
   ]
  },
  {
   "cell_type": "code",
   "execution_count": 41,
   "metadata": {},
   "outputs": [
    {
     "name": "stdout",
     "output_type": "stream",
     "text": [
      "[0, 1, 4, 9, 16, 25, 36, 49, 64, 81, 100]\n"
     ]
    }
   ],
   "source": [
    "# Demo: Criando lista de quadrados usando compreensão de lista\n",
    "\n",
    "x = [numero**2 for numero in range(11)]\n",
    "print(x)"
   ]
  },
  {
   "cell_type": "markdown",
   "metadata": {},
   "source": [
    "##  While e condicionais"
   ]
  },
  {
   "cell_type": "code",
   "execution_count": 43,
   "metadata": {},
   "outputs": [
    {
     "name": "stdout",
     "output_type": "stream",
     "text": [
      "Escreva qualquer coisa! Se quiser sair escreva sair.fdsfsdfs\n",
      "Escreva qualquer coisa! Se quiser sair escreva sair.sair\n"
     ]
    }
   ],
   "source": [
    "# Demonstração: Loop infinito c/ input de usuário\n",
    "devo_ficar = True\n",
    "\n",
    "while devo_ficar:\n",
    "    coisa = input(\"Escreva qualquer coisa! Se quiser sair escreva sair.\")\n",
    "    if coisa == \"sair\":\n",
    "        devo_ficar = False"
   ]
  },
  {
   "cell_type": "markdown",
   "metadata": {},
   "source": [
    "## If, elif e else"
   ]
  },
  {
   "cell_type": "code",
   "execution_count": 51,
   "metadata": {
    "scrolled": true
   },
   "outputs": [
    {
     "name": "stdout",
     "output_type": "stream",
     "text": [
      "Fizz Buzz Buzz\n",
      "Nada\n",
      "Nada\n",
      "Fizz\n",
      "Nada\n",
      "Buzz\n",
      "Fizz\n",
      "Nada\n",
      "Nada\n",
      "Fizz\n",
      "Buzz\n",
      "Nada\n",
      "Fizz\n",
      "Nada\n",
      "Nada\n",
      "Fizz Buzz Buzz\n",
      "Nada\n",
      "Nada\n",
      "Fizz\n",
      "Nada\n",
      "Buzz\n",
      "Fizz\n",
      "Nada\n",
      "Nada\n",
      "Fizz\n",
      "Buzz\n",
      "Nada\n",
      "Fizz\n",
      "Nada\n",
      "Nada\n",
      "Fizz Buzz Buzz\n",
      "Nada\n",
      "Nada\n",
      "Fizz\n",
      "Nada\n",
      "Buzz\n",
      "Fizz\n",
      "Nada\n",
      "Nada\n",
      "Fizz\n",
      "Buzz\n",
      "Nada\n",
      "Fizz\n",
      "Nada\n",
      "Nada\n",
      "Fizz Buzz Buzz\n",
      "Nada\n",
      "Nada\n",
      "Fizz\n",
      "Nada\n",
      "Buzz\n",
      "Fizz\n",
      "Nada\n",
      "Nada\n",
      "Fizz\n",
      "Buzz\n",
      "Nada\n",
      "Fizz\n",
      "Nada\n",
      "Nada\n",
      "Fizz Buzz Buzz\n",
      "Nada\n",
      "Nada\n",
      "Fizz\n",
      "Nada\n",
      "Buzz\n",
      "Fizz\n",
      "Nada\n",
      "Nada\n",
      "Fizz\n",
      "Buzz\n",
      "Nada\n",
      "Fizz\n",
      "Nada\n",
      "Nada\n",
      "Fizz Buzz Buzz\n",
      "Nada\n",
      "Nada\n",
      "Fizz\n",
      "Nada\n",
      "Buzz\n",
      "Fizz\n",
      "Nada\n",
      "Nada\n",
      "Fizz\n",
      "Buzz\n",
      "Nada\n",
      "Fizz\n",
      "Nada\n",
      "Nada\n",
      "Fizz Buzz Buzz\n",
      "Nada\n",
      "Nada\n",
      "Fizz\n",
      "Nada\n",
      "Buzz\n",
      "Fizz\n",
      "Nada\n",
      "Nada\n",
      "Fizz\n"
     ]
    }
   ],
   "source": [
    "## Demonstração: Fizz Buzz Buzz\n",
    "\n",
    "for i in range(100):\n",
    "    if i % 3 == 0 and i % 5 == 0:\n",
    "        print(\"Fizz Buzz Buzz\")\n",
    "    elif i % 3 == 0:\n",
    "        print(\"Fizz\")\n",
    "    elif i % 5 == 0:\n",
    "        print(\"Buzz\")\n",
    "    else:\n",
    "        print(\"Nada\")"
   ]
  },
  {
   "cell_type": "markdown",
   "metadata": {},
   "source": [
    "## Funções "
   ]
  },
  {
   "cell_type": "code",
   "execution_count": 64,
   "metadata": {},
   "outputs": [],
   "source": [
    "# Demo: Declaração de função que calcula báskara\n",
    "\n",
    "def baskara(a, b, c):\n",
    "    delta = b**2 - 4*a*c\n",
    "    if delta < 0:\n",
    "        print(\"Raiz fora dos reais\")\n",
    "    else:\n",
    "        x1 = (-b - delta**1/2)/(2*a)\n",
    "        x2 = (-b + delta**1/2)/(2*a)\n",
    "        return {\"x1\": x1, \"x2\": x2}"
   ]
  },
  {
   "cell_type": "code",
   "execution_count": 63,
   "metadata": {},
   "outputs": [
    {
     "name": "stdout",
     "output_type": "stream",
     "text": [
      "-7.0\n",
      "5.0\n"
     ]
    }
   ],
   "source": [
    "baskara(1, 2, -5)"
   ]
  },
  {
   "cell_type": "markdown",
   "metadata": {},
   "source": [
    "### Docstrings\n",
    "\n",
    "As docstrings são uma forma muito simples e funcional de documentar o seu código! As use sempre que possível."
   ]
  },
  {
   "cell_type": "code",
   "execution_count": 75,
   "metadata": {},
   "outputs": [],
   "source": [
    "# Demo: Função que calcula báskara c/ docstring\n",
    "\n",
    "def baskara(a, b, c):\n",
    "    \"\"\"\n",
    "    Função que calcula baskara dados coeficientes.\n",
    "    \n",
    "    Parametros:\n",
    "        a, b, c: inteiro\n",
    "            coeficientes da equação quadratica.\n",
    "    Retorna:\n",
    "        Dicionário contendo x1 e x2.\n",
    "    \"\"\"\n",
    "    delta = b**2 - 4*a*c\n",
    "    if delta < 0:\n",
    "        print(\"Raiz fora dos reais\")\n",
    "    else:\n",
    "        x1 = (-b - delta**1/2)/(2*a)\n",
    "        x2 = (-b + delta**1/2)/(2*a)\n",
    "        return {\"x1\": x1, \"x2\": x2}"
   ]
  },
  {
   "cell_type": "code",
   "execution_count": 76,
   "metadata": {},
   "outputs": [
    {
     "name": "stdout",
     "output_type": "stream",
     "text": [
      "Help on function baskara in module __main__:\n",
      "\n",
      "baskara(a, b, c)\n",
      "    Função que calcula baskara dados coeficientes.\n",
      "    \n",
      "    Parametros:\n",
      "        a, b, c: inteiro\n",
      "            coeficientes da equação quadratica.\n",
      "    Retorna:\n",
      "        Dicionário contendo x1 e x2.\n",
      "\n"
     ]
    }
   ],
   "source": [
    "help(baskara)"
   ]
  },
  {
   "cell_type": "markdown",
   "metadata": {},
   "source": [
    "##  Objetos\n",
    "\n",
    "A implementação do Python é feita em termos de objetos. Em geral não implementamos objetos em tarefas simples do dia-a-dia. Apenas em programas mais complexos que requerem uma arquitetura.\n",
    "\n",
    "No entanto para usar o Python de maneira eficaz é necessário saber alguns conceitos sobre objetos, pois todas as construções dentro do Python seguem a mesma lógica dos objetos."
   ]
  },
  {
   "cell_type": "markdown",
   "metadata": {},
   "source": [
    "> Um **objeto** é uma abstração que **permite agrupar dados e procedimentos** (ou funções) **em um única estrutura**. Os dados associados a um objeto são chamados **atributos** ou variáveis de instância. E as funções associadas a um objeto são chamadas de **métodos**. "
   ]
  },
  {
   "cell_type": "markdown",
   "metadata": {},
   "source": [
    "> Um objeto é criado ao **instanciar** uma **classe**, em geral usando um **construtor**."
   ]
  },
  {
   "cell_type": "code",
   "execution_count": 78,
   "metadata": {},
   "outputs": [],
   "source": [
    "class Quadrado():\n",
    "    \n",
    "    # Construtor\n",
    "    def __init__(self, lado):\n",
    "        self.lado = lado\n",
    "    \n",
    "    def area(self):                                 \n",
    "        return self.lado**2"
   ]
  },
  {
   "cell_type": "code",
   "execution_count": 80,
   "metadata": {},
   "outputs": [
    {
     "data": {
      "text/plain": [
       "__main__.Quadrado"
      ]
     },
     "execution_count": 80,
     "metadata": {},
     "output_type": "execute_result"
    }
   ],
   "source": [
    "quadrado1 = Quadrado(3)\n",
    "type(quadrado1)"
   ]
  },
  {
   "cell_type": "code",
   "execution_count": 82,
   "metadata": {},
   "outputs": [
    {
     "data": {
      "text/plain": [
       "3"
      ]
     },
     "execution_count": 82,
     "metadata": {},
     "output_type": "execute_result"
    }
   ],
   "source": [
    "quadrado1.lado"
   ]
  },
  {
   "cell_type": "code",
   "execution_count": 83,
   "metadata": {},
   "outputs": [
    {
     "data": {
      "text/plain": [
       "9"
      ]
     },
     "execution_count": 83,
     "metadata": {},
     "output_type": "execute_result"
    }
   ],
   "source": [
    "quadrado1.area()"
   ]
  }
 ],
 "metadata": {
  "kernelspec": {
   "display_name": "Python 3",
   "language": "python",
   "name": "python3"
  },
  "language_info": {
   "codemirror_mode": {
    "name": "ipython",
    "version": 3
   },
   "file_extension": ".py",
   "mimetype": "text/x-python",
   "name": "python",
   "nbconvert_exporter": "python",
   "pygments_lexer": "ipython3",
   "version": "3.8.3"
  },
  "toc": {
   "base_numbering": 1,
   "nav_menu": {},
   "number_sections": true,
   "sideBar": true,
   "skip_h1_title": false,
   "title_cell": "Table of Contents",
   "title_sidebar": "Contents",
   "toc_cell": false,
   "toc_position": {},
   "toc_section_display": true,
   "toc_window_display": false
  },
  "varInspector": {
   "cols": {
    "lenName": 16,
    "lenType": 16,
    "lenVar": 40
   },
   "kernels_config": {
    "python": {
     "delete_cmd_postfix": "",
     "delete_cmd_prefix": "del ",
     "library": "var_list.py",
     "varRefreshCmd": "print(var_dic_list())"
    },
    "r": {
     "delete_cmd_postfix": ") ",
     "delete_cmd_prefix": "rm(",
     "library": "var_list.r",
     "varRefreshCmd": "cat(var_dic_list()) "
    }
   },
   "position": {
    "height": "442.85px",
    "left": "757px",
    "right": "20px",
    "top": "130px",
    "width": "445px"
   },
   "types_to_exclude": [
    "module",
    "function",
    "builtin_function_or_method",
    "instance",
    "_Feature"
   ],
   "window_display": false
  }
 },
 "nbformat": 4,
 "nbformat_minor": 4
}
