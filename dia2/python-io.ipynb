{
 "cells": [
  {
   "cell_type": "markdown",
   "metadata": {},
   "source": [
    "# O formato CSV\n",
    "\n",
    "Dados podem guardados de diferentes formas:\n",
    "\n",
    "- Planilhas \n",
    "- XML\n",
    "- JSON\n",
    "- Bancos SQL\n",
    "- ...\n",
    "\n",
    "No entanto a forma mais simples e comum de guardar dados é no formato **CSV**.\n",
    "\n",
    "Que significa **C**omma **S**eparated **V**alues ou valores separados por vírgula. Apesar do nome, este formato se estende a qualquer separador."
   ]
  },
  {
   "cell_type": "markdown",
   "metadata": {},
   "source": [
    "Em geral, o trabalho de interpretar os dados em CSV é feito automaticamente usando bibliotecas. No entanto é bom ter um modelo mental, do trabalho que essas bibliotecas fazem pra conseguir resolver problemas com mais facilidade. Em geral, o trabalho de carregar os arquivos consiste em quatro etapas:\n",
    "- Carregar o arquivo (por padrão como uma string)\n",
    "- Interpretar as linhas do arquivo\n",
    "- Transformar no tipo certo para uso\n",
    "- Carregar numa estrutura de dados conveniente\n",
    "\n",
    "E para escrever no disco precisamos transformar uma estrutura de dados em uma string."
   ]
  },
  {
   "cell_type": "markdown",
   "metadata": {},
   "source": [
    "Existe alguns métodos de string que ajudam muito com isso."
   ]
  },
  {
   "cell_type": "code",
   "execution_count": 18,
   "metadata": {},
   "outputs": [
    {
     "name": "stdout",
     "output_type": "stream",
     "text": [
      "1,2,3,4,5\n",
      "['1', '2', '3', '4', '5']\n",
      "[1, 2, 3, 4, 5]\n",
      "1,2,3,4,5\n"
     ]
    }
   ],
   "source": [
    "csv = \" 1,2,3,4,5 \\n\"\n",
    "\n",
    "# Demo: strip (limpa string)\n",
    "csv = csv.strip()\n",
    "print(csv)\n",
    "\n",
    "# Demo: split (separa partes no delimitador indicado)\n",
    "csv = csv.split(\",\")\n",
    "print(csv)\n",
    "\n",
    "# Demo: casting (ato de transformar tipos)\n",
    "csv = list(map(int, csv))\n",
    "print(csv)\n",
    "\n",
    "# Demo: join (c)\n",
    "csv = \",\".join(map(str, csv))\n",
    "print(csv)"
   ]
  },
  {
   "cell_type": "markdown",
   "metadata": {},
   "source": [
    "# Entrada e Saída de dados"
   ]
  },
  {
   "cell_type": "markdown",
   "metadata": {},
   "source": [
    "Relembrando a compreensão de lista:\n",
    "\n",
    "`lista = [<algum objeto\\> for <item\\> in <coleção\\> if <condição desejada\\>]`"
   ]
  },
  {
   "cell_type": "code",
   "execution_count": 19,
   "metadata": {},
   "outputs": [
    {
     "name": "stdout",
     "output_type": "stream",
     "text": [
      "[['A', 1], ['B', 2], ['C', 3], ['D', 4], ['E', 5], ['F', 6], ['G', 7], ['H', 8], ['I', 9], ['J', 10]]\n"
     ]
    }
   ],
   "source": [
    "# Demo: Carregando dados (usando administrador de contexto)\n",
    "nome_do_arquivo = \"arquivox.txt\"\n",
    "\n",
    "# Usando administrador de contexto para carregar linhas\n",
    "with open(nome_do_arquivo) as arquivo:\n",
    "    dados = [linha.strip().split(\",\") for linha in arquivo]\n",
    "\n",
    "# Transformando coluna dois no tipo correto\n",
    "for linha in dados:\n",
    "    linha[1] = int(linha[1])\n",
    "    \n",
    "print(dados)"
   ]
  },
  {
   "cell_type": "code",
   "execution_count": 14,
   "metadata": {},
   "outputs": [
    {
     "name": "stdout",
     "output_type": "stream",
     "text": [
      "[['G', 7], ['H', 8], ['I', 9], ['J', 10]]\n"
     ]
    }
   ],
   "source": [
    "# Demo: Extraindo subset\n",
    "\n",
    "subset = [linha for linha in dados if linha[1] > 6]\n",
    "print(subset)"
   ]
  },
  {
   "cell_type": "code",
   "execution_count": 16,
   "metadata": {},
   "outputs": [],
   "source": [
    "# Demo: escrevendo usando modo write (w)\n",
    "\n",
    "with open(\"novo_arquivo.csv\", \"w\") as novo:\n",
    "    for linha in subset:\n",
    "        novo.write(\",\".join(map(str, linha)) + \"\\n\")"
   ]
  },
  {
   "cell_type": "markdown",
   "metadata": {},
   "source": [
    "> Em geral esse processo é feito usando bibliotecas, no entanto saber a forma manual do processo ajuda a ter uma intuição do processo, facilitando a resolução de problemas no futuro."
   ]
  },
  {
   "cell_type": "code",
   "execution_count": null,
   "metadata": {},
   "outputs": [],
   "source": [
    "# Exemplo:\n",
    "# import pandas as pd\n",
    "# dados = pd.read_csv(nome_do_arquivo)"
   ]
  }
 ],
 "metadata": {
  "kernelspec": {
   "display_name": "Python 3",
   "language": "python",
   "name": "python3"
  },
  "language_info": {
   "codemirror_mode": {
    "name": "ipython",
    "version": 3
   },
   "file_extension": ".py",
   "mimetype": "text/x-python",
   "name": "python",
   "nbconvert_exporter": "python",
   "pygments_lexer": "ipython3",
   "version": "3.8.3"
  },
  "toc": {
   "base_numbering": 1,
   "nav_menu": {},
   "number_sections": true,
   "sideBar": true,
   "skip_h1_title": false,
   "title_cell": "Table of Contents",
   "title_sidebar": "Contents",
   "toc_cell": false,
   "toc_position": {},
   "toc_section_display": true,
   "toc_window_display": false
  },
  "varInspector": {
   "cols": {
    "lenName": 16,
    "lenType": 16,
    "lenVar": 40
   },
   "kernels_config": {
    "python": {
     "delete_cmd_postfix": "",
     "delete_cmd_prefix": "del ",
     "library": "var_list.py",
     "varRefreshCmd": "print(var_dic_list())"
    },
    "r": {
     "delete_cmd_postfix": ") ",
     "delete_cmd_prefix": "rm(",
     "library": "var_list.r",
     "varRefreshCmd": "cat(var_dic_list()) "
    }
   },
   "types_to_exclude": [
    "module",
    "function",
    "builtin_function_or_method",
    "instance",
    "_Feature"
   ],
   "window_display": false
  }
 },
 "nbformat": 4,
 "nbformat_minor": 2
}
